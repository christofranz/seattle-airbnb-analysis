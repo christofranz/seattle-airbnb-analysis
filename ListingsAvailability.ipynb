{
 "cells": [
  {
   "cell_type": "markdown",
   "metadata": {},
   "source": [
    "# Availability of AirBnB Listings\n",
    "\n",
    "In this notebook the AirBnB listings from Seattle from 2016 are used to analyse the availability of homes for the next 365 days. Firstly, the data and datatypes are inspected. Secondly, the data is processed and statistics are calculate describing the availability of the listings."
   ]
  },
  {
   "cell_type": "code",
   "execution_count": 55,
   "metadata": {},
   "outputs": [
    {
     "data": {
      "text/html": [
       "<div>\n",
       "<style scoped>\n",
       "    .dataframe tbody tr th:only-of-type {\n",
       "        vertical-align: middle;\n",
       "    }\n",
       "\n",
       "    .dataframe tbody tr th {\n",
       "        vertical-align: top;\n",
       "    }\n",
       "\n",
       "    .dataframe thead th {\n",
       "        text-align: right;\n",
       "    }\n",
       "</style>\n",
       "<table border=\"1\" class=\"dataframe\">\n",
       "  <thead>\n",
       "    <tr style=\"text-align: right;\">\n",
       "      <th></th>\n",
       "      <th>id</th>\n",
       "      <th>listing_url</th>\n",
       "      <th>scrape_id</th>\n",
       "      <th>last_scraped</th>\n",
       "      <th>name</th>\n",
       "      <th>summary</th>\n",
       "      <th>space</th>\n",
       "      <th>description</th>\n",
       "      <th>experiences_offered</th>\n",
       "      <th>neighborhood_overview</th>\n",
       "      <th>...</th>\n",
       "      <th>review_scores_value</th>\n",
       "      <th>requires_license</th>\n",
       "      <th>license</th>\n",
       "      <th>jurisdiction_names</th>\n",
       "      <th>instant_bookable</th>\n",
       "      <th>cancellation_policy</th>\n",
       "      <th>require_guest_profile_picture</th>\n",
       "      <th>require_guest_phone_verification</th>\n",
       "      <th>calculated_host_listings_count</th>\n",
       "      <th>reviews_per_month</th>\n",
       "    </tr>\n",
       "  </thead>\n",
       "  <tbody>\n",
       "    <tr>\n",
       "      <th>0</th>\n",
       "      <td>241032</td>\n",
       "      <td>https://www.airbnb.com/rooms/241032</td>\n",
       "      <td>20160104002432</td>\n",
       "      <td>2016-01-04</td>\n",
       "      <td>Stylish Queen Anne Apartment</td>\n",
       "      <td>NaN</td>\n",
       "      <td>Make your self at home in this charming one-be...</td>\n",
       "      <td>Make your self at home in this charming one-be...</td>\n",
       "      <td>none</td>\n",
       "      <td>NaN</td>\n",
       "      <td>...</td>\n",
       "      <td>10.0</td>\n",
       "      <td>f</td>\n",
       "      <td>NaN</td>\n",
       "      <td>WASHINGTON</td>\n",
       "      <td>f</td>\n",
       "      <td>moderate</td>\n",
       "      <td>f</td>\n",
       "      <td>f</td>\n",
       "      <td>2</td>\n",
       "      <td>4.07</td>\n",
       "    </tr>\n",
       "    <tr>\n",
       "      <th>1</th>\n",
       "      <td>953595</td>\n",
       "      <td>https://www.airbnb.com/rooms/953595</td>\n",
       "      <td>20160104002432</td>\n",
       "      <td>2016-01-04</td>\n",
       "      <td>Bright &amp; Airy Queen Anne Apartment</td>\n",
       "      <td>Chemically sensitive? We've removed the irrita...</td>\n",
       "      <td>Beautiful, hypoallergenic apartment in an extr...</td>\n",
       "      <td>Chemically sensitive? We've removed the irrita...</td>\n",
       "      <td>none</td>\n",
       "      <td>Queen Anne is a wonderful, truly functional vi...</td>\n",
       "      <td>...</td>\n",
       "      <td>10.0</td>\n",
       "      <td>f</td>\n",
       "      <td>NaN</td>\n",
       "      <td>WASHINGTON</td>\n",
       "      <td>f</td>\n",
       "      <td>strict</td>\n",
       "      <td>t</td>\n",
       "      <td>t</td>\n",
       "      <td>6</td>\n",
       "      <td>1.48</td>\n",
       "    </tr>\n",
       "    <tr>\n",
       "      <th>2</th>\n",
       "      <td>3308979</td>\n",
       "      <td>https://www.airbnb.com/rooms/3308979</td>\n",
       "      <td>20160104002432</td>\n",
       "      <td>2016-01-04</td>\n",
       "      <td>New Modern House-Amazing water view</td>\n",
       "      <td>New modern house built in 2013.  Spectacular s...</td>\n",
       "      <td>Our house is modern, light and fresh with a wa...</td>\n",
       "      <td>New modern house built in 2013.  Spectacular s...</td>\n",
       "      <td>none</td>\n",
       "      <td>Upper Queen Anne is a charming neighborhood fu...</td>\n",
       "      <td>...</td>\n",
       "      <td>10.0</td>\n",
       "      <td>f</td>\n",
       "      <td>NaN</td>\n",
       "      <td>WASHINGTON</td>\n",
       "      <td>f</td>\n",
       "      <td>strict</td>\n",
       "      <td>f</td>\n",
       "      <td>f</td>\n",
       "      <td>2</td>\n",
       "      <td>1.15</td>\n",
       "    </tr>\n",
       "    <tr>\n",
       "      <th>3</th>\n",
       "      <td>7421966</td>\n",
       "      <td>https://www.airbnb.com/rooms/7421966</td>\n",
       "      <td>20160104002432</td>\n",
       "      <td>2016-01-04</td>\n",
       "      <td>Queen Anne Chateau</td>\n",
       "      <td>A charming apartment that sits atop Queen Anne...</td>\n",
       "      <td>NaN</td>\n",
       "      <td>A charming apartment that sits atop Queen Anne...</td>\n",
       "      <td>none</td>\n",
       "      <td>NaN</td>\n",
       "      <td>...</td>\n",
       "      <td>NaN</td>\n",
       "      <td>f</td>\n",
       "      <td>NaN</td>\n",
       "      <td>WASHINGTON</td>\n",
       "      <td>f</td>\n",
       "      <td>flexible</td>\n",
       "      <td>f</td>\n",
       "      <td>f</td>\n",
       "      <td>1</td>\n",
       "      <td>NaN</td>\n",
       "    </tr>\n",
       "    <tr>\n",
       "      <th>4</th>\n",
       "      <td>278830</td>\n",
       "      <td>https://www.airbnb.com/rooms/278830</td>\n",
       "      <td>20160104002432</td>\n",
       "      <td>2016-01-04</td>\n",
       "      <td>Charming craftsman 3 bdm house</td>\n",
       "      <td>Cozy family craftman house in beautiful neighb...</td>\n",
       "      <td>Cozy family craftman house in beautiful neighb...</td>\n",
       "      <td>Cozy family craftman house in beautiful neighb...</td>\n",
       "      <td>none</td>\n",
       "      <td>We are in the beautiful neighborhood of Queen ...</td>\n",
       "      <td>...</td>\n",
       "      <td>9.0</td>\n",
       "      <td>f</td>\n",
       "      <td>NaN</td>\n",
       "      <td>WASHINGTON</td>\n",
       "      <td>f</td>\n",
       "      <td>strict</td>\n",
       "      <td>f</td>\n",
       "      <td>f</td>\n",
       "      <td>1</td>\n",
       "      <td>0.89</td>\n",
       "    </tr>\n",
       "  </tbody>\n",
       "</table>\n",
       "<p>5 rows × 92 columns</p>\n",
       "</div>"
      ],
      "text/plain": [
       "        id                           listing_url       scrape_id last_scraped  \\\n",
       "0   241032   https://www.airbnb.com/rooms/241032  20160104002432   2016-01-04   \n",
       "1   953595   https://www.airbnb.com/rooms/953595  20160104002432   2016-01-04   \n",
       "2  3308979  https://www.airbnb.com/rooms/3308979  20160104002432   2016-01-04   \n",
       "3  7421966  https://www.airbnb.com/rooms/7421966  20160104002432   2016-01-04   \n",
       "4   278830   https://www.airbnb.com/rooms/278830  20160104002432   2016-01-04   \n",
       "\n",
       "                                  name  \\\n",
       "0         Stylish Queen Anne Apartment   \n",
       "1   Bright & Airy Queen Anne Apartment   \n",
       "2  New Modern House-Amazing water view   \n",
       "3                   Queen Anne Chateau   \n",
       "4       Charming craftsman 3 bdm house   \n",
       "\n",
       "                                             summary  \\\n",
       "0                                                NaN   \n",
       "1  Chemically sensitive? We've removed the irrita...   \n",
       "2  New modern house built in 2013.  Spectacular s...   \n",
       "3  A charming apartment that sits atop Queen Anne...   \n",
       "4  Cozy family craftman house in beautiful neighb...   \n",
       "\n",
       "                                               space  \\\n",
       "0  Make your self at home in this charming one-be...   \n",
       "1  Beautiful, hypoallergenic apartment in an extr...   \n",
       "2  Our house is modern, light and fresh with a wa...   \n",
       "3                                                NaN   \n",
       "4  Cozy family craftman house in beautiful neighb...   \n",
       "\n",
       "                                         description experiences_offered  \\\n",
       "0  Make your self at home in this charming one-be...                none   \n",
       "1  Chemically sensitive? We've removed the irrita...                none   \n",
       "2  New modern house built in 2013.  Spectacular s...                none   \n",
       "3  A charming apartment that sits atop Queen Anne...                none   \n",
       "4  Cozy family craftman house in beautiful neighb...                none   \n",
       "\n",
       "                               neighborhood_overview  ... review_scores_value  \\\n",
       "0                                                NaN  ...                10.0   \n",
       "1  Queen Anne is a wonderful, truly functional vi...  ...                10.0   \n",
       "2  Upper Queen Anne is a charming neighborhood fu...  ...                10.0   \n",
       "3                                                NaN  ...                 NaN   \n",
       "4  We are in the beautiful neighborhood of Queen ...  ...                 9.0   \n",
       "\n",
       "  requires_license license jurisdiction_names instant_bookable  \\\n",
       "0                f     NaN         WASHINGTON                f   \n",
       "1                f     NaN         WASHINGTON                f   \n",
       "2                f     NaN         WASHINGTON                f   \n",
       "3                f     NaN         WASHINGTON                f   \n",
       "4                f     NaN         WASHINGTON                f   \n",
       "\n",
       "  cancellation_policy  require_guest_profile_picture  \\\n",
       "0            moderate                              f   \n",
       "1              strict                              t   \n",
       "2              strict                              f   \n",
       "3            flexible                              f   \n",
       "4              strict                              f   \n",
       "\n",
       "  require_guest_phone_verification calculated_host_listings_count  \\\n",
       "0                                f                              2   \n",
       "1                                t                              6   \n",
       "2                                f                              2   \n",
       "3                                f                              1   \n",
       "4                                f                              1   \n",
       "\n",
       "  reviews_per_month  \n",
       "0              4.07  \n",
       "1              1.48  \n",
       "2              1.15  \n",
       "3               NaN  \n",
       "4              0.89  \n",
       "\n",
       "[5 rows x 92 columns]"
      ]
     },
     "execution_count": 55,
     "metadata": {},
     "output_type": "execute_result"
    }
   ],
   "source": [
    "import numpy as np\n",
    "import pandas as pd\n",
    "from collections import defaultdict\n",
    "import matplotlib.pyplot as plt\n",
    "import seaborn as sns\n",
    "%matplotlib inline\n",
    "\n",
    "# read in the calendar of the listings from the csv-file\n",
    "df_list = pd.read_csv('./listings.csv')\n",
    "df_list.head()"
   ]
  },
  {
   "cell_type": "code",
   "execution_count": 56,
   "metadata": {},
   "outputs": [
    {
     "data": {
      "text/plain": [
       "Index(['id', 'listing_url', 'scrape_id', 'last_scraped', 'name', 'summary',\n",
       "       'space', 'description', 'experiences_offered', 'neighborhood_overview',\n",
       "       'notes', 'transit', 'thumbnail_url', 'medium_url', 'picture_url',\n",
       "       'xl_picture_url', 'host_id', 'host_url', 'host_name', 'host_since',\n",
       "       'host_location', 'host_about', 'host_response_time',\n",
       "       'host_response_rate', 'host_acceptance_rate', 'host_is_superhost',\n",
       "       'host_thumbnail_url', 'host_picture_url', 'host_neighbourhood',\n",
       "       'host_listings_count', 'host_total_listings_count',\n",
       "       'host_verifications', 'host_has_profile_pic', 'host_identity_verified',\n",
       "       'street', 'neighbourhood', 'neighbourhood_cleansed',\n",
       "       'neighbourhood_group_cleansed', 'city', 'state', 'zipcode', 'market',\n",
       "       'smart_location', 'country_code', 'country', 'latitude', 'longitude',\n",
       "       'is_location_exact', 'property_type', 'room_type', 'accommodates',\n",
       "       'bathrooms', 'bedrooms', 'beds', 'bed_type', 'amenities', 'square_feet',\n",
       "       'price', 'weekly_price', 'monthly_price', 'security_deposit',\n",
       "       'cleaning_fee', 'guests_included', 'extra_people', 'minimum_nights',\n",
       "       'maximum_nights', 'calendar_updated', 'has_availability',\n",
       "       'availability_30', 'availability_60', 'availability_90',\n",
       "       'availability_365', 'calendar_last_scraped', 'number_of_reviews',\n",
       "       'first_review', 'last_review', 'review_scores_rating',\n",
       "       'review_scores_accuracy', 'review_scores_cleanliness',\n",
       "       'review_scores_checkin', 'review_scores_communication',\n",
       "       'review_scores_location', 'review_scores_value', 'requires_license',\n",
       "       'license', 'jurisdiction_names', 'instant_bookable',\n",
       "       'cancellation_policy', 'require_guest_profile_picture',\n",
       "       'require_guest_phone_verification', 'calculated_host_listings_count',\n",
       "       'reviews_per_month'],\n",
       "      dtype='object')"
      ]
     },
     "execution_count": 56,
     "metadata": {},
     "output_type": "execute_result"
    }
   ],
   "source": [
    "# have a look which columns are present\n",
    "df_list.columns"
   ]
  },
  {
   "cell_type": "code",
   "execution_count": 57,
   "metadata": {},
   "outputs": [
    {
     "data": {
      "text/html": [
       "<div>\n",
       "<style scoped>\n",
       "    .dataframe tbody tr th:only-of-type {\n",
       "        vertical-align: middle;\n",
       "    }\n",
       "\n",
       "    .dataframe tbody tr th {\n",
       "        vertical-align: top;\n",
       "    }\n",
       "\n",
       "    .dataframe thead th {\n",
       "        text-align: right;\n",
       "    }\n",
       "</style>\n",
       "<table border=\"1\" class=\"dataframe\">\n",
       "  <thead>\n",
       "    <tr style=\"text-align: right;\">\n",
       "      <th></th>\n",
       "      <th>id</th>\n",
       "      <th>host_id</th>\n",
       "      <th>availability_365</th>\n",
       "      <th>property_type</th>\n",
       "      <th>room_type</th>\n",
       "      <th>accommodates</th>\n",
       "    </tr>\n",
       "  </thead>\n",
       "  <tbody>\n",
       "    <tr>\n",
       "      <th>0</th>\n",
       "      <td>241032</td>\n",
       "      <td>956883</td>\n",
       "      <td>346</td>\n",
       "      <td>Apartment</td>\n",
       "      <td>Entire home/apt</td>\n",
       "      <td>4</td>\n",
       "    </tr>\n",
       "    <tr>\n",
       "      <th>1</th>\n",
       "      <td>953595</td>\n",
       "      <td>5177328</td>\n",
       "      <td>291</td>\n",
       "      <td>Apartment</td>\n",
       "      <td>Entire home/apt</td>\n",
       "      <td>4</td>\n",
       "    </tr>\n",
       "    <tr>\n",
       "      <th>2</th>\n",
       "      <td>3308979</td>\n",
       "      <td>16708587</td>\n",
       "      <td>220</td>\n",
       "      <td>House</td>\n",
       "      <td>Entire home/apt</td>\n",
       "      <td>11</td>\n",
       "    </tr>\n",
       "    <tr>\n",
       "      <th>3</th>\n",
       "      <td>7421966</td>\n",
       "      <td>9851441</td>\n",
       "      <td>143</td>\n",
       "      <td>Apartment</td>\n",
       "      <td>Entire home/apt</td>\n",
       "      <td>3</td>\n",
       "    </tr>\n",
       "    <tr>\n",
       "      <th>4</th>\n",
       "      <td>278830</td>\n",
       "      <td>1452570</td>\n",
       "      <td>365</td>\n",
       "      <td>House</td>\n",
       "      <td>Entire home/apt</td>\n",
       "      <td>6</td>\n",
       "    </tr>\n",
       "  </tbody>\n",
       "</table>\n",
       "</div>"
      ],
      "text/plain": [
       "        id   host_id  availability_365 property_type        room_type  \\\n",
       "0   241032    956883               346     Apartment  Entire home/apt   \n",
       "1   953595   5177328               291     Apartment  Entire home/apt   \n",
       "2  3308979  16708587               220         House  Entire home/apt   \n",
       "3  7421966   9851441               143     Apartment  Entire home/apt   \n",
       "4   278830   1452570               365         House  Entire home/apt   \n",
       "\n",
       "   accommodates  \n",
       "0             4  \n",
       "1             4  \n",
       "2            11  \n",
       "3             3  \n",
       "4             6  "
      ]
     },
     "execution_count": 57,
     "metadata": {},
     "output_type": "execute_result"
    }
   ],
   "source": [
    "# interesting is the availability for the entire year (availability_365), host_id, property_type, room_type, accommodates \n",
    "df_list_red = df_list[[\"id\", \"host_id\", \"availability_365\", \"property_type\", \"room_type\", \"accommodates\"]]\n",
    "df_list_red.head()"
   ]
  },
  {
   "cell_type": "code",
   "execution_count": 58,
   "metadata": {},
   "outputs": [
    {
     "data": {
      "text/plain": [
       "id                   int64\n",
       "host_id              int64\n",
       "availability_365     int64\n",
       "property_type       object\n",
       "room_type           object\n",
       "accommodates         int64\n",
       "dtype: object"
      ]
     },
     "execution_count": 58,
     "metadata": {},
     "output_type": "execute_result"
    }
   ],
   "source": [
    "# look at the data types\n",
    "df_list_red.dtypes"
   ]
  },
  {
   "cell_type": "code",
   "execution_count": 59,
   "metadata": {},
   "outputs": [
    {
     "data": {
      "text/plain": [
       "id                  0.000000\n",
       "host_id             0.000000\n",
       "availability_365    0.000000\n",
       "property_type       0.000262\n",
       "room_type           0.000000\n",
       "accommodates        0.000000\n",
       "dtype: float64"
      ]
     },
     "execution_count": 59,
     "metadata": {},
     "output_type": "execute_result"
    }
   ],
   "source": [
    "# are there columns with only nan values\n",
    "df_list_red.isnull().mean()"
   ]
  },
  {
   "cell_type": "code",
   "execution_count": 60,
   "metadata": {},
   "outputs": [
    {
     "name": "stdout",
     "output_type": "stream",
     "text": [
      "The reduced dataframe contains 3818 number of rows.\n"
     ]
    }
   ],
   "source": [
    "# how many rows does the dataframe have\n",
    "num_rows = df_list_red.shape[0]\n",
    "print(\"The reduced dataframe contains {} number of rows.\".format(num_rows))"
   ]
  },
  {
   "cell_type": "code",
   "execution_count": 61,
   "metadata": {},
   "outputs": [
    {
     "name": "stdout",
     "output_type": "stream",
     "text": [
      "There are 3818 different listings in Seattle.\n"
     ]
    }
   ],
   "source": [
    "# and how many different listings\n",
    "val_count = df_list_red[\"id\"].value_counts()\n",
    "num_listings = len(val_count)\n",
    "print(\"There are {} different listings in Seattle.\".format(num_listings))"
   ]
  },
  {
   "cell_type": "code",
   "execution_count": 62,
   "metadata": {},
   "outputs": [
    {
     "data": {
      "text/plain": [
       "<matplotlib.axes._subplots.AxesSubplot at 0x1e513555518>"
      ]
     },
     "execution_count": 62,
     "metadata": {},
     "output_type": "execute_result"
    },
    {
     "data": {
      "image/png": "[encoded data removed]",
      "text/plain": [
       "<Figure size 432x288 with 1 Axes>"
      ]
     },
     "metadata": {
      "needs_background": "light"
     },
     "output_type": "display_data"
    }
   ],
   "source": [
    "# create a fast/first overview about the availability for the next 365 days\n",
    "avail_per_list = df_list_red[\"availability_365\"]\n",
    "avail_per_list.hist()"
   ]
  },
  {
   "cell_type": "code",
   "execution_count": 63,
   "metadata": {},
   "outputs": [],
   "source": [
    "def plot_availability(availability_per_listing, title=None):\n",
    "    \"\"\"\n",
    "    Creates a histogram of the availability and a normalized cumulative sum of the availabilities.\n",
    "    \n",
    "    INPUT\n",
    "    availability_per_listing - Pandas series with the availability in days for each listing\n",
    "    title - Name of the title for the graph\n",
    "    \n",
    "    OUTPUT\n",
    "    base - x-values of the normalized cumulative sum of availabilities    \n",
    "    cumulative - Normalized cumulative sum of availabilities for data points along the x-axis\n",
    "    \"\"\"\n",
    "    fig, ax1 = plt.subplots()\n",
    "\n",
    "    ax1.set_xlabel('Days available per listing')\n",
    "    ax1.set_ylabel('listings')\n",
    "    hist_vals = ax1.hist(availability_per_listing, zorder=1)\n",
    "    ax1.tick_params(axis='y')\n",
    "\n",
    "    ax2 = ax1.twinx()  # instantiate a second axis that shares the same x-axis\n",
    "    # evaluate the histogram\n",
    "    values, base = np.histogram(availability_per_listing, bins=10)\n",
    "    #evaluate the cumulative\n",
    "    cumulative = np.cumsum(values)\n",
    "    cumulative = cumulative / len(availability_per_listing)\n",
    "    color = 'tab:orange'\n",
    "    ax2.set_ylabel('Proportion of listings')  #color=color we already handled the x-label with ax1\n",
    "    ax2.plot(base[:-1], cumulative, color=color, zorder=2)\n",
    "    ax2.tick_params(axis='y', labelcolor=color) \n",
    "    \n",
    "    fig.tight_layout()  # otherwise the right y-label is slightly clipped\n",
    "    \n",
    "    plt.title(title)\n",
    "    plt.show()"
   ]
  },
  {
   "cell_type": "code",
   "execution_count": 64,
   "metadata": {},
   "outputs": [
    {
     "data": {
      "image/png": "[encoded data removed]",
      "text/plain": [
       "<Figure size 432x288 with 2 Axes>"
      ]
     },
     "metadata": {},
     "output_type": "display_data"
    }
   ],
   "source": [
    "plot_availability(avail_per_list, \"Availability of Listings\")"
   ]
  },
  {
   "cell_type": "code",
   "execution_count": 65,
   "metadata": {},
   "outputs": [
    {
     "data": {
      "image/png": "[encoded data removed]",
      "text/plain": [
       "<Figure size 432x288 with 1 Axes>"
      ]
     },
     "metadata": {
      "needs_background": "light"
     },
     "output_type": "display_data"
    }
   ],
   "source": [
    "# how does the availability differ for the room types\n",
    "avail_per_type = df_list_red.groupby(\"room_type\").mean()\n",
    "avail_per_type[\"availability_365\"].plot(kind=\"bar\")\n",
    "plt.show()"
   ]
  },
  {
   "cell_type": "code",
   "execution_count": 66,
   "metadata": {},
   "outputs": [
    {
     "data": {
      "text/html": [
       "<style  type=\"text/css\" >\n",
       "    #T_f7faa4a8_7d67_11ea_be24_7c76350bab84row0_col1 {\n",
       "            width:  10em;\n",
       "             height:  80%;\n",
       "            background:  linear-gradient(90deg,#d65f5f 49.5%, transparent 49.5%);\n",
       "        }    #T_f7faa4a8_7d67_11ea_be24_7c76350bab84row1_col1 {\n",
       "            width:  10em;\n",
       "             height:  80%;\n",
       "            background:  linear-gradient(90deg, transparent 48.4%, #d65f5f 48.4%, #d65f5f 49.5%, transparent 49.5%);\n",
       "        }    #T_f7faa4a8_7d67_11ea_be24_7c76350bab84row2_col1 {\n",
       "            width:  10em;\n",
       "             height:  80%;\n",
       "            background:  linear-gradient(90deg, transparent 49.5%, #5fba7d 49.5%, #5fba7d 100.0%, transparent 100.0%);\n",
       "        }</style><table id=\"T_f7faa4a8_7d67_11ea_be24_7c76350bab84\" ><thead>    <tr>        <th class=\"blank level0\" ></th>        <th class=\"col_heading level0 col0\" >availability_365</th>        <th class=\"col_heading level0 col1\" >diff_to_mean</th>    </tr>    <tr>        <th class=\"index_name level0\" >room_type</th>        <th class=\"blank\" ></th>        <th class=\"blank\" ></th>    </tr></thead><tbody>\n",
       "                <tr>\n",
       "                        <th id=\"T_f7faa4a8_7d67_11ea_be24_7c76350bab84level0_row0\" class=\"row_heading level0 row0\" >Entire home/apt</th>\n",
       "                        <td id=\"T_f7faa4a8_7d67_11ea_be24_7c76350bab84row0_col0\" class=\"data row0 col0\" >233.457</td>\n",
       "                        <td id=\"T_f7faa4a8_7d67_11ea_be24_7c76350bab84row0_col1\" class=\"data row0 col1\" >-31.4922</td>\n",
       "            </tr>\n",
       "            <tr>\n",
       "                        <th id=\"T_f7faa4a8_7d67_11ea_be24_7c76350bab84level0_row1\" class=\"row_heading level0 row1\" >Private room</th>\n",
       "                        <td id=\"T_f7faa4a8_7d67_11ea_be24_7c76350bab84row1_col0\" class=\"data row1 col0\" >264.28</td>\n",
       "                        <td id=\"T_f7faa4a8_7d67_11ea_be24_7c76350bab84row1_col1\" class=\"data row1 col1\" >-0.669356</td>\n",
       "            </tr>\n",
       "            <tr>\n",
       "                        <th id=\"T_f7faa4a8_7d67_11ea_be24_7c76350bab84level0_row2\" class=\"row_heading level0 row2\" >Shared room</th>\n",
       "                        <td id=\"T_f7faa4a8_7d67_11ea_be24_7c76350bab84row2_col0\" class=\"data row2 col0\" >297.111</td>\n",
       "                        <td id=\"T_f7faa4a8_7d67_11ea_be24_7c76350bab84row2_col1\" class=\"data row2 col1\" >32.1616</td>\n",
       "            </tr>\n",
       "    </tbody></table>"
      ],
      "text/plain": [
       "<pandas.io.formats.style.Styler at 0x1e514c475f8>"
      ]
     },
     "execution_count": 66,
     "metadata": {},
     "output_type": "execute_result"
    }
   ],
   "source": [
    "# illustrate the deviation to the mean value\n",
    "mean_availability = np.mean(avail_per_type[\"availability_365\"])\n",
    "avail_per_type[\"diff_to_mean\"] = avail_per_type[\"availability_365\"] - mean_availability # difference to mean\n",
    "avail_per_type = avail_per_type.drop([\"id\", \"host_id\", \"accommodates\"], axis=1)\n",
    "avail_per_type.style.bar(subset=[\"diff_to_mean\"], align='mid', color=['#d65f5f', '#5fba7d'])"
   ]
  },
  {
   "cell_type": "code",
   "execution_count": 67,
   "metadata": {},
   "outputs": [
    {
     "data": {
      "image/png": "[encoded data removed]",
      "text/plain": [
       "<Figure size 432x288 with 2 Axes>"
      ]
     },
     "metadata": {},
     "output_type": "display_data"
    }
   ],
   "source": [
    "# closer look at the entire apartments / homes\n",
    "df_entire = df_list_red[df_list_red[\"room_type\"] == \"Entire home/apt\"]\n",
    "avail_apart_house = df_entire[\"availability_365\"]\n",
    "plot_availability(avail_apart_house, title=\"Availability of entire Homes/Apartments\")"
   ]
  },
  {
   "cell_type": "code",
   "execution_count": 68,
   "metadata": {},
   "outputs": [
    {
     "data": {
      "text/html": [
       "<div>\n",
       "<style scoped>\n",
       "    .dataframe tbody tr th:only-of-type {\n",
       "        vertical-align: middle;\n",
       "    }\n",
       "\n",
       "    .dataframe tbody tr th {\n",
       "        vertical-align: top;\n",
       "    }\n",
       "\n",
       "    .dataframe thead th {\n",
       "        text-align: right;\n",
       "    }\n",
       "</style>\n",
       "<table border=\"1\" class=\"dataframe\">\n",
       "  <thead>\n",
       "    <tr style=\"text-align: right;\">\n",
       "      <th></th>\n",
       "      <th>id</th>\n",
       "      <th>listing_url</th>\n",
       "      <th>scrape_id</th>\n",
       "      <th>last_scraped</th>\n",
       "      <th>name</th>\n",
       "      <th>summary</th>\n",
       "      <th>space</th>\n",
       "      <th>description</th>\n",
       "      <th>experiences_offered</th>\n",
       "      <th>neighborhood_overview</th>\n",
       "      <th>...</th>\n",
       "      <th>review_scores_value</th>\n",
       "      <th>requires_license</th>\n",
       "      <th>license</th>\n",
       "      <th>jurisdiction_names</th>\n",
       "      <th>instant_bookable</th>\n",
       "      <th>cancellation_policy</th>\n",
       "      <th>require_guest_profile_picture</th>\n",
       "      <th>require_guest_phone_verification</th>\n",
       "      <th>calculated_host_listings_count</th>\n",
       "      <th>reviews_per_month</th>\n",
       "    </tr>\n",
       "  </thead>\n",
       "  <tbody>\n",
       "    <tr>\n",
       "      <th>5</th>\n",
       "      <td>5956968</td>\n",
       "      <td>https://www.airbnb.com/rooms/5956968</td>\n",
       "      <td>20160104002432</td>\n",
       "      <td>2016-01-04</td>\n",
       "      <td>Private unit in a 1920s mansion</td>\n",
       "      <td>We're renting out a small private unit of one ...</td>\n",
       "      <td>If you include a bit of your background in you...</td>\n",
       "      <td>We're renting out a small private unit of one ...</td>\n",
       "      <td>none</td>\n",
       "      <td>This part of Queen Anne has wonderful views an...</td>\n",
       "      <td>...</td>\n",
       "      <td>10.0</td>\n",
       "      <td>f</td>\n",
       "      <td>NaN</td>\n",
       "      <td>WASHINGTON</td>\n",
       "      <td>f</td>\n",
       "      <td>strict</td>\n",
       "      <td>f</td>\n",
       "      <td>f</td>\n",
       "      <td>1</td>\n",
       "      <td>2.45</td>\n",
       "    </tr>\n",
       "    <tr>\n",
       "      <th>6</th>\n",
       "      <td>1909058</td>\n",
       "      <td>https://www.airbnb.com/rooms/1909058</td>\n",
       "      <td>20160104002432</td>\n",
       "      <td>2016-01-04</td>\n",
       "      <td>Queen Anne Private Bed and Bath</td>\n",
       "      <td>Enjoy a quiet stay in our comfortable 1915 Cra...</td>\n",
       "      <td>Enjoy a quiet stay in our comfortable 1915 Cra...</td>\n",
       "      <td>Enjoy a quiet stay in our comfortable 1915 Cra...</td>\n",
       "      <td>none</td>\n",
       "      <td>Close restaurants, coffee shops and grocery st...</td>\n",
       "      <td>...</td>\n",
       "      <td>10.0</td>\n",
       "      <td>f</td>\n",
       "      <td>NaN</td>\n",
       "      <td>WASHINGTON</td>\n",
       "      <td>f</td>\n",
       "      <td>moderate</td>\n",
       "      <td>f</td>\n",
       "      <td>f</td>\n",
       "      <td>1</td>\n",
       "      <td>2.46</td>\n",
       "    </tr>\n",
       "    <tr>\n",
       "      <th>7</th>\n",
       "      <td>856550</td>\n",
       "      <td>https://www.airbnb.com/rooms/856550</td>\n",
       "      <td>20160104002432</td>\n",
       "      <td>2016-01-04</td>\n",
       "      <td>Tiny Garden cabin on Queen Anne</td>\n",
       "      <td>Our tiny cabin is private , very quiet and com...</td>\n",
       "      <td>This cabin was built with Airbnb in mind, Que...</td>\n",
       "      <td>Our tiny cabin is private , very quiet and com...</td>\n",
       "      <td>none</td>\n",
       "      <td>We are centrally located between Downtown and ...</td>\n",
       "      <td>...</td>\n",
       "      <td>10.0</td>\n",
       "      <td>f</td>\n",
       "      <td>NaN</td>\n",
       "      <td>WASHINGTON</td>\n",
       "      <td>f</td>\n",
       "      <td>strict</td>\n",
       "      <td>t</td>\n",
       "      <td>t</td>\n",
       "      <td>5</td>\n",
       "      <td>4.73</td>\n",
       "    </tr>\n",
       "    <tr>\n",
       "      <th>8</th>\n",
       "      <td>4948745</td>\n",
       "      <td>https://www.airbnb.com/rooms/4948745</td>\n",
       "      <td>20160104002432</td>\n",
       "      <td>2016-01-04</td>\n",
       "      <td>Urban Charm || Downtown || Views</td>\n",
       "      <td>Nestled in the heart of the city, this space i...</td>\n",
       "      <td>Located in the heart of the city, this space i...</td>\n",
       "      <td>Nestled in the heart of the city, this space i...</td>\n",
       "      <td>none</td>\n",
       "      <td>Walking Score: 92 4 blocks from Kerry Park Fam...</td>\n",
       "      <td>...</td>\n",
       "      <td>10.0</td>\n",
       "      <td>f</td>\n",
       "      <td>NaN</td>\n",
       "      <td>WASHINGTON</td>\n",
       "      <td>f</td>\n",
       "      <td>strict</td>\n",
       "      <td>f</td>\n",
       "      <td>f</td>\n",
       "      <td>1</td>\n",
       "      <td>1.22</td>\n",
       "    </tr>\n",
       "    <tr>\n",
       "      <th>16</th>\n",
       "      <td>3245876</td>\n",
       "      <td>https://www.airbnb.com/rooms/3245876</td>\n",
       "      <td>20160104002432</td>\n",
       "      <td>2016-01-04</td>\n",
       "      <td>Park Life in Lower Queen Anne</td>\n",
       "      <td>Master bedroom suite with 1/4 bath &amp; kitchenet...</td>\n",
       "      <td>**PLEASE MAKE SURE TO READ ALL INFO BEFORE BOO...</td>\n",
       "      <td>Master bedroom suite with 1/4 bath &amp; kitchenet...</td>\n",
       "      <td>none</td>\n",
       "      <td>Lower Queen Anne is amazing - you can walk to ...</td>\n",
       "      <td>...</td>\n",
       "      <td>9.0</td>\n",
       "      <td>f</td>\n",
       "      <td>NaN</td>\n",
       "      <td>WASHINGTON</td>\n",
       "      <td>f</td>\n",
       "      <td>moderate</td>\n",
       "      <td>f</td>\n",
       "      <td>f</td>\n",
       "      <td>1</td>\n",
       "      <td>4.55</td>\n",
       "    </tr>\n",
       "  </tbody>\n",
       "</table>\n",
       "<p>5 rows × 92 columns</p>\n",
       "</div>"
      ],
      "text/plain": [
       "         id                           listing_url       scrape_id  \\\n",
       "5   5956968  https://www.airbnb.com/rooms/5956968  20160104002432   \n",
       "6   1909058  https://www.airbnb.com/rooms/1909058  20160104002432   \n",
       "7    856550   https://www.airbnb.com/rooms/856550  20160104002432   \n",
       "8   4948745  https://www.airbnb.com/rooms/4948745  20160104002432   \n",
       "16  3245876  https://www.airbnb.com/rooms/3245876  20160104002432   \n",
       "\n",
       "   last_scraped                               name  \\\n",
       "5    2016-01-04    Private unit in a 1920s mansion   \n",
       "6    2016-01-04    Queen Anne Private Bed and Bath   \n",
       "7    2016-01-04  Tiny Garden cabin on Queen Anne     \n",
       "8    2016-01-04   Urban Charm || Downtown || Views   \n",
       "16   2016-01-04      Park Life in Lower Queen Anne   \n",
       "\n",
       "                                              summary  \\\n",
       "5   We're renting out a small private unit of one ...   \n",
       "6   Enjoy a quiet stay in our comfortable 1915 Cra...   \n",
       "7   Our tiny cabin is private , very quiet and com...   \n",
       "8   Nestled in the heart of the city, this space i...   \n",
       "16  Master bedroom suite with 1/4 bath & kitchenet...   \n",
       "\n",
       "                                                space  \\\n",
       "5   If you include a bit of your background in you...   \n",
       "6   Enjoy a quiet stay in our comfortable 1915 Cra...   \n",
       "7    This cabin was built with Airbnb in mind, Que...   \n",
       "8   Located in the heart of the city, this space i...   \n",
       "16  **PLEASE MAKE SURE TO READ ALL INFO BEFORE BOO...   \n",
       "\n",
       "                                          description experiences_offered  \\\n",
       "5   We're renting out a small private unit of one ...                none   \n",
       "6   Enjoy a quiet stay in our comfortable 1915 Cra...                none   \n",
       "7   Our tiny cabin is private , very quiet and com...                none   \n",
       "8   Nestled in the heart of the city, this space i...                none   \n",
       "16  Master bedroom suite with 1/4 bath & kitchenet...                none   \n",
       "\n",
       "                                neighborhood_overview  ...  \\\n",
       "5   This part of Queen Anne has wonderful views an...  ...   \n",
       "6   Close restaurants, coffee shops and grocery st...  ...   \n",
       "7   We are centrally located between Downtown and ...  ...   \n",
       "8   Walking Score: 92 4 blocks from Kerry Park Fam...  ...   \n",
       "16  Lower Queen Anne is amazing - you can walk to ...  ...   \n",
       "\n",
       "   review_scores_value requires_license license jurisdiction_names  \\\n",
       "5                 10.0                f     NaN         WASHINGTON   \n",
       "6                 10.0                f     NaN         WASHINGTON   \n",
       "7                 10.0                f     NaN         WASHINGTON   \n",
       "8                 10.0                f     NaN         WASHINGTON   \n",
       "16                 9.0                f     NaN         WASHINGTON   \n",
       "\n",
       "   instant_bookable cancellation_policy  require_guest_profile_picture  \\\n",
       "5                 f              strict                              f   \n",
       "6                 f            moderate                              f   \n",
       "7                 f              strict                              t   \n",
       "8                 f              strict                              f   \n",
       "16                f            moderate                              f   \n",
       "\n",
       "   require_guest_phone_verification calculated_host_listings_count  \\\n",
       "5                                 f                              1   \n",
       "6                                 f                              1   \n",
       "7                                 t                              5   \n",
       "8                                 f                              1   \n",
       "16                                f                              1   \n",
       "\n",
       "   reviews_per_month  \n",
       "5               2.45  \n",
       "6               2.46  \n",
       "7               4.73  \n",
       "8               1.22  \n",
       "16              4.55  \n",
       "\n",
       "[5 rows x 92 columns]"
      ]
     },
     "execution_count": 68,
     "metadata": {},
     "output_type": "execute_result"
    }
   ],
   "source": [
    "# dataframe/availability for private and shared rooms\n",
    "df_rooms = df_list.query(\"room_type == 'Private room' | room_type == 'Shared room'\")\n",
    "df_rooms.head()"
   ]
  },
  {
   "cell_type": "code",
   "execution_count": 72,
   "metadata": {},
   "outputs": [
    {
     "name": "stdout",
     "output_type": "stream",
     "text": [
      "Fraction of shared/private rooms with low availability is 0.09\n"
     ]
    }
   ],
   "source": [
    "high_availability = 60 # days according to http://insideairbnb.com/seattle/\n",
    "# number of private and shared rooms with low availability\n",
    "rooms_low_avail = df_rooms[df_rooms[\"availability_365\"] < high_availability][\"availability_365\"].count()\n",
    "print(\"Fraction of shared/private rooms with low availability is {}.\".format(round(rooms_low_avail/df_rooms.shape[0], 2)))"
   ]
  },
  {
   "cell_type": "code",
   "execution_count": 70,
   "metadata": {},
   "outputs": [
    {
     "name": "stdout",
     "output_type": "stream",
     "text": [
      "2541 listings are entire homes or apartments in Seattle. This corresponds to 66.55 % of all listings.\n",
      "Only 33.45 % of the listings are private or shared rooms.\n"
     ]
    }
   ],
   "source": [
    "listings_entire = df_entire.shape[0] # number of listings which are entire homes/apartments\n",
    "portion_entire = round((listings_entire / num_listings) * 100, 2)\n",
    "print(\"{} listings are entire homes or apartments in Seattle. This corresponds to {} % of all listings.\".format(listings_entire, portion_entire))\n",
    "print(\"Only {} % of the listings are private or shared rooms.\".format(100 - portion_entire))"
   ]
  },
  {
   "cell_type": "code",
   "execution_count": 75,
   "metadata": {},
   "outputs": [
    {
     "name": "stdout",
     "output_type": "stream",
     "text": [
      "Fraction of entire apartments/homes with high availability: 0.87.\n"
     ]
    }
   ],
   "source": [
    "# how many of these entire apartments/homes have a high availability\n",
    "entire_list_high = np.sum(df_entire[\"availability_365\"] > high_availability)\n",
    "print(\"Fraction of entire apartments/homes with high availability: {}.\".format(round(entire_list_high / listings_entire, 2)))"
   ]
  },
  {
   "cell_type": "code",
   "execution_count": 76,
   "metadata": {},
   "outputs": [
    {
     "name": "stdout",
     "output_type": "stream",
     "text": [
      "Fraction of entire apartments/homes with high availability from all listings: 0.58\n"
     ]
    }
   ],
   "source": [
    "print(\"Fraction of entire apartments/homes with high availability from all listings: {}\".format(round(entire_list_high / num_listings, 2)))"
   ]
  },
  {
   "cell_type": "code",
   "execution_count": 77,
   "metadata": {},
   "outputs": [
    {
     "data": {
      "text/plain": [
       "<seaborn.axisgrid.FacetGrid at 0x1e516ff3128>"
      ]
     },
     "execution_count": 77,
     "metadata": {},
     "output_type": "execute_result"
    },
    {
     "data": {
      "image/png": "[encoded data removed]",
      "text/plain": [
       "<Figure size 432x432 with 1 Axes>"
      ]
     },
     "metadata": {},
     "output_type": "display_data"
    }
   ],
   "source": [
    "# improved bar chart for the availability grouped by room types\n",
    "sns.set(style=\"ticks\")\n",
    "g = sns.catplot(x=\"room_type\", y=\"availability_365\", data=df_list_red,\n",
    "                height=6, kind=\"bar\", palette=\"Blues_d\")\n",
    "g.axes[0][0].axhline(mean_availability, ls='--', color=\"orange\")\n",
    "\n",
    "g.despine(left=True)\n",
    "g.set_ylabels(\"Availability per Year\")\n",
    "g.set_xlabels(\"Room Types\")"
   ]
  },
  {
   "cell_type": "code",
   "execution_count": null,
   "metadata": {},
   "outputs": [],
   "source": []
  }
 ],
 "metadata": {
  "kernelspec": {
   "display_name": "Python 3",
   "language": "python",
   "name": "python3"
  },
  "language_info": {
   "codemirror_mode": {
    "name": "ipython",
    "version": 3
   },
   "file_extension": ".py",
   "mimetype": "text/x-python",
   "name": "python",
   "nbconvert_exporter": "python",
   "pygments_lexer": "ipython3",
   "version": "3.7.3"
  }
 },
 "nbformat": 4,
 "nbformat_minor": 2
}
